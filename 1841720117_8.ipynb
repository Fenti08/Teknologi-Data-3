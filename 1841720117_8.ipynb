{
  "nbformat": 4,
  "nbformat_minor": 0,
  "metadata": {
    "colab": {
      "name": "1841720117_8.ipynb",
      "provenance": [],
      "authorship_tag": "ABX9TyO2EhvqhQqD7J4cEQWZt0kw",
      "include_colab_link": true
    },
    "kernelspec": {
      "name": "python3",
      "display_name": "Python 3"
    }
  },
  "cells": [
    {
      "cell_type": "markdown",
      "metadata": {
        "id": "view-in-github",
        "colab_type": "text"
      },
      "source": [
        "<a href=\"https://colab.research.google.com/github/Fenti08/Teknologi-Data-3/blob/main/1841720117_8.ipynb\" target=\"_parent\"><img src=\"https://colab.research.google.com/assets/colab-badge.svg\" alt=\"Open In Colab\"/></a>"
      ]
    },
    {
      "cell_type": "code",
      "metadata": {
        "colab": {
          "base_uri": "https://localhost:8080/"
        },
        "id": "ZNyMjKxol9_0",
        "outputId": "6f628418-182c-4840-b38c-305112962e5b"
      },
      "source": [
        "x = None\r\n",
        "print(type(x))    #output: NoneType\r\n",
        "\r\n",
        "print(x == None)  #output: True\r\n",
        "print(x)  #output: None"
      ],
      "execution_count": 1,
      "outputs": [
        {
          "output_type": "stream",
          "text": [
            "<class 'NoneType'>\n",
            "True\n",
            "None\n"
          ],
          "name": "stdout"
        }
      ]
    }
  ]
}
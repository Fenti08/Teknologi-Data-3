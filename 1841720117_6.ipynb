{
  "nbformat": 4,
  "nbformat_minor": 0,
  "metadata": {
    "colab": {
      "name": "1841720117_6.ipynb",
      "provenance": [],
      "authorship_tag": "ABX9TyNk5X2eaxz4YbnSMWiWliWQ",
      "include_colab_link": true
    },
    "kernelspec": {
      "name": "python3",
      "display_name": "Python 3"
    }
  },
  "cells": [
    {
      "cell_type": "markdown",
      "metadata": {
        "id": "view-in-github",
        "colab_type": "text"
      },
      "source": [
        "<a href=\"https://colab.research.google.com/github/Fenti08/Teknologi-Data-3/blob/main/1841720117_6.ipynb\" target=\"_parent\"><img src=\"https://colab.research.google.com/assets/colab-badge.svg\" alt=\"Open In Colab\"/></a>"
      ]
    },
    {
      "cell_type": "code",
      "metadata": {
        "colab": {
          "base_uri": "https://localhost:8080/"
        },
        "id": "HpOnbrxgStYw",
        "outputId": "7c673e6f-60ef-4276-def7-f028c3313cf8"
      },
      "source": [
        "counter = 100   #integer value assignment\r\n",
        "jarak = 104.5   #floating point value\r\n",
        "name = \"nina\"   #the name vatiable stores a string value\r\n",
        "\r\n",
        "#multiple assignment in one command line :\r\n",
        "a = b = c = 200\r\n",
        "name, city, salary = \"Sabine\", 'Surabaya', 70000\r\n",
        "\r\n",
        "print(counter)\r\n",
        "print(jarak)\r\n",
        "print(name)\r\n",
        "print(a, b, c)\r\n",
        "print(city)"
      ],
      "execution_count": 1,
      "outputs": [
        {
          "output_type": "stream",
          "text": [
            "100\n",
            "104.5\n",
            "Sabine\n",
            "200 200 200\n",
            "Surabaya\n"
          ],
          "name": "stdout"
        }
      ]
    }
  ]
}
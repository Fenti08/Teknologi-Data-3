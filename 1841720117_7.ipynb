{
  "nbformat": 4,
  "nbformat_minor": 0,
  "metadata": {
    "colab": {
      "name": "1841720117_7.ipynb",
      "provenance": [],
      "authorship_tag": "ABX9TyN4HOiJWQM/xcv/Kl6r/p+F",
      "include_colab_link": true
    },
    "kernelspec": {
      "name": "python3",
      "display_name": "Python 3"
    }
  },
  "cells": [
    {
      "cell_type": "markdown",
      "metadata": {
        "id": "view-in-github",
        "colab_type": "text"
      },
      "source": [
        "<a href=\"https://colab.research.google.com/github/Fenti08/Teknologi-Data-3/blob/main/1841720117_7.ipynb\" target=\"_parent\"><img src=\"https://colab.research.google.com/assets/colab-badge.svg\" alt=\"Open In Colab\"/></a>"
      ]
    },
    {
      "cell_type": "code",
      "metadata": {
        "colab": {
          "base_uri": "https://localhost:8080/"
        },
        "id": "7jARA8OkexQ7",
        "outputId": "8830411e-ac7d-40c3-dca0-a3b2dd330ab6"
      },
      "source": [
        "print(True or False)  #output : True\r\n",
        "print(True or False)  #output : False\r\n",
        "print(100 > 200)      #output : False\r\n",
        "\r\n",
        "a=9\r\n",
        "print (a > 0) #output : True\r\n",
        "\r\n",
        "b=10\r\n",
        "print (a > b) #output : False"
      ],
      "execution_count": 1,
      "outputs": [
        {
          "output_type": "stream",
          "text": [
            "True\n",
            "True\n",
            "False\n",
            "True\n",
            "False\n"
          ],
          "name": "stdout"
        }
      ]
    }
  ]
}
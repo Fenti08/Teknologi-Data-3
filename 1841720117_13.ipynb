{
  "nbformat": 4,
  "nbformat_minor": 0,
  "metadata": {
    "colab": {
      "name": "1841720117_13.ipynb",
      "provenance": [],
      "authorship_tag": "ABX9TyMT7hFHxIV43gs4V2AZNvkU",
      "include_colab_link": true
    },
    "kernelspec": {
      "name": "python3",
      "display_name": "Python 3"
    }
  },
  "cells": [
    {
      "cell_type": "markdown",
      "metadata": {
        "id": "view-in-github",
        "colab_type": "text"
      },
      "source": [
        "<a href=\"https://colab.research.google.com/github/Fenti08/Teknologi-Data-3/blob/main/1841720117_13.ipynb\" target=\"_parent\"><img src=\"https://colab.research.google.com/assets/colab-badge.svg\" alt=\"Open In Colab\"/></a>"
      ]
    },
    {
      "cell_type": "code",
      "metadata": {
        "colab": {
          "base_uri": "https://localhost:8080/"
        },
        "id": "TWTsyov2nvNG",
        "outputId": "ad4104a6-9e8a-4b33-ad0b-e67f33dd0901"
      },
      "source": [
        "s = \"SaMurai\"\r\n",
        "s.lower() #'samurai'\r\n",
        "print(s)  #'saMurai'\r\n",
        "\r\n",
        "s2 = s.lower()\r\n",
        "print(s2) #'samurai'\r\n",
        "\r\n",
        "name = input('What is your name? ')\r\n",
        "\r\n",
        "print('Hi ' + name + '!')"
      ],
      "execution_count": 1,
      "outputs": [
        {
          "output_type": "stream",
          "text": [
            "SaMurai\n",
            "samurai\n",
            "What is your name? samurai\n",
            "Hi samurai!\n"
          ],
          "name": "stdout"
        }
      ]
    }
  ]
}
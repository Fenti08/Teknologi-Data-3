{
  "nbformat": 4,
  "nbformat_minor": 0,
  "metadata": {
    "colab": {
      "name": "1841720117_15.ipynb",
      "provenance": [],
      "authorship_tag": "ABX9TyOmMzjolsVhjCdsbJbM1O+P",
      "include_colab_link": true
    },
    "kernelspec": {
      "name": "python3",
      "display_name": "Python 3"
    }
  },
  "cells": [
    {
      "cell_type": "markdown",
      "metadata": {
        "id": "view-in-github",
        "colab_type": "text"
      },
      "source": [
        "<a href=\"https://colab.research.google.com/github/Fenti08/Teknologi-Data-3/blob/main/1841720117_15.ipynb\" target=\"_parent\"><img src=\"https://colab.research.google.com/assets/colab-badge.svg\" alt=\"Open In Colab\"/></a>"
      ]
    },
    {
      "cell_type": "code",
      "metadata": {
        "colab": {
          "base_uri": "https://localhost:8080/"
        },
        "id": "2FBDWj8FoPoW",
        "outputId": "dc497dd0-c5b2-4249-8d4d-97be1483dcbb"
      },
      "source": [
        "a = 10; b = 20\r\n",
        "mylist = [1, 2, 3, 4, 5];\r\n",
        "\r\n",
        "a=2\r\n",
        "if (a in mylist):\r\n",
        "  print (\"Line 3 a is available in the given list\")\r\n",
        "else:\r\n",
        "  print (\"Line 3 a is not availalble in the given list\")"
      ],
      "execution_count": 1,
      "outputs": [
        {
          "output_type": "stream",
          "text": [
            "Line 3 a is available in the given list\n"
          ],
          "name": "stdout"
        }
      ]
    }
  ]
}
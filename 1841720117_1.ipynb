{
  "nbformat": 4,
  "nbformat_minor": 0,
  "metadata": {
    "colab": {
      "name": "1841720117.ipynb",
      "provenance": [],
      "authorship_tag": "ABX9TyNn7Ox5KheuxLfo1UBRwihu",
      "include_colab_link": true
    },
    "kernelspec": {
      "name": "python3",
      "display_name": "Python 3"
    }
  },
  "cells": [
    {
      "cell_type": "markdown",
      "metadata": {
        "id": "view-in-github",
        "colab_type": "text"
      },
      "source": [
        "<a href=\"https://colab.research.google.com/github/Fenti08/Teknologi-Data-3/blob/main/1841720117_1.ipynb\" target=\"_parent\"><img src=\"https://colab.research.google.com/assets/colab-badge.svg\" alt=\"Open In Colab\"/></a>"
      ]
    },
    {
      "cell_type": "code",
      "metadata": {
        "colab": {
          "base_uri": "https://localhost:8080/"
        },
        "id": "QP3Gta5uDCba",
        "outputId": "4ef45836-d035-46ff-b7b9-7a87b15e7cc0"
      },
      "source": [
        "if False:\r\n",
        "  print(\"False\")\r\n",
        "else:\r\n",
        "  print(\"True\")"
      ],
      "execution_count": 1,
      "outputs": [
        {
          "output_type": "stream",
          "text": [
            "6868.0\n"
          ],
          "name": "stdout"
        }
      ]
    }
  ]
}
{
  "nbformat": 4,
  "nbformat_minor": 0,
  "metadata": {
    "colab": {
      "name": "1841720117_3.ipynb",
      "provenance": [],
      "authorship_tag": "ABX9TyPH3DYqW+9qZR430VsAFle8",
      "include_colab_link": true
    },
    "kernelspec": {
      "name": "python3",
      "display_name": "Python 3"
    }
  },
  "cells": [
    {
      "cell_type": "markdown",
      "metadata": {
        "id": "view-in-github",
        "colab_type": "text"
      },
      "source": [
        "<a href=\"https://colab.research.google.com/github/Fenti08/Teknologi-Data-3/blob/main/1841720117_3.ipynb\" target=\"_parent\"><img src=\"https://colab.research.google.com/assets/colab-badge.svg\" alt=\"Open In Colab\"/></a>"
      ]
    },
    {
      "cell_type": "code",
      "metadata": {
        "colab": {
          "base_uri": "https://localhost:8080/"
        },
        "id": "U4qW0tFXRthM",
        "outputId": "74c95418-b9e8-49cf-e45f-d12a34ec9395"
      },
      "source": [
        "cabang = ['Jakarta', 'Bogor', 'Bandung', 'Solo', 'Malang', 'Surabaya',\r\n",
        "          'Banyuwangi', 'Denpasar', 'Makassar']\r\n",
        "print (cabang)"
      ],
      "execution_count": 1,
      "outputs": [
        {
          "output_type": "stream",
          "text": [
            "['Jakarta', 'Bogor', 'Bandung', 'Solo', 'Malang', 'Surabaya', 'Banyuwangi', 'Denpasar', 'Makassar']\n"
          ],
          "name": "stdout"
        }
      ]
    }
  ]
}
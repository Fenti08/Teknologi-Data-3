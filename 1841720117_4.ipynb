{
  "nbformat": 4,
  "nbformat_minor": 0,
  "metadata": {
    "colab": {
      "name": "1841720117_4",
      "provenance": [],
      "authorship_tag": "ABX9TyP4tdlKXilSuiZrPUsMCQl2",
      "include_colab_link": true
    },
    "kernelspec": {
      "name": "python3",
      "display_name": "Python 3"
    }
  },
  "cells": [
    {
      "cell_type": "markdown",
      "metadata": {
        "id": "view-in-github",
        "colab_type": "text"
      },
      "source": [
        "<a href=\"https://colab.research.google.com/github/Fenti08/Teknologi-Data-3/blob/main/1841720117_4.ipynb\" target=\"_parent\"><img src=\"https://colab.research.google.com/assets/colab-badge.svg\" alt=\"Open In Colab\"/></a>"
      ]
    },
    {
      "cell_type": "code",
      "metadata": {
        "id": "Kg-x7xfuSlgf",
        "colab": {
          "base_uri": "https://localhost:8080/"
        },
        "outputId": "185dcb0a-3866-4279-9843-77107bd6f63d"
      },
      "source": [
        "x = 100; y=150; z=22.56; hasil = x+2*y*z\r\n",
        "print(hasil)"
      ],
      "execution_count": 1,
      "outputs": [
        {
          "output_type": "stream",
          "text": [
            "6868.0\n"
          ],
          "name": "stdout"
        }
      ]
    }
  ]
}
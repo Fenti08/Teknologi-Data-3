{
  "nbformat": 4,
  "nbformat_minor": 0,
  "metadata": {
    "colab": {
      "name": "1841720117_2.ipynb",
      "provenance": [],
      "authorship_tag": "ABX9TyN+R3RTJdQ9K2VPdX0y9YLE",
      "include_colab_link": true
    },
    "kernelspec": {
      "name": "python3",
      "display_name": "Python 3"
    }
  },
  "cells": [
    {
      "cell_type": "markdown",
      "metadata": {
        "id": "view-in-github",
        "colab_type": "text"
      },
      "source": [
        "<a href=\"https://colab.research.google.com/github/Fenti08/Teknologi-Data-3/blob/main/1841720117_2.ipynb\" target=\"_parent\"><img src=\"https://colab.research.google.com/assets/colab-badge.svg\" alt=\"Open In Colab\"/></a>"
      ]
    },
    {
      "cell_type": "code",
      "metadata": {
        "colab": {
          "base_uri": "https://localhost:8080/"
        },
        "id": "RTj6Kay1RalG",
        "outputId": "e118f7a4-ed2b-4ed1-83bf-4c00bd7c9f6c"
      },
      "source": [
        "nilai1 = 10\r\n",
        "nilai2 = 20\r\n",
        "nilai3 = 100\r\n",
        "total = nilai1 + nilai2 \\\r\n",
        "  + nilai3\r\n",
        "print(total)"
      ],
      "execution_count": 1,
      "outputs": [
        {
          "output_type": "stream",
          "text": [
            "130\n"
          ],
          "name": "stdout"
        }
      ]
    }
  ]
}
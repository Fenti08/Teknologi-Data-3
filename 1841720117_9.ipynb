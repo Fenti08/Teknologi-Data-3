{
  "nbformat": 4,
  "nbformat_minor": 0,
  "metadata": {
    "colab": {
      "name": "1841720117_9.ipynb",
      "provenance": [],
      "authorship_tag": "ABX9TyOvzDzZPHlJ03QFs9b0Ot3m",
      "include_colab_link": true
    },
    "kernelspec": {
      "name": "python3",
      "display_name": "Python 3"
    }
  },
  "cells": [
    {
      "cell_type": "markdown",
      "metadata": {
        "id": "view-in-github",
        "colab_type": "text"
      },
      "source": [
        "<a href=\"https://colab.research.google.com/github/Fenti08/Teknologi-Data-3/blob/main/1841720117_9.ipynb\" target=\"_parent\"><img src=\"https://colab.research.google.com/assets/colab-badge.svg\" alt=\"Open In Colab\"/></a>"
      ]
    },
    {
      "cell_type": "code",
      "metadata": {
        "colab": {
          "base_uri": "https://localhost:8080/"
        },
        "id": "i4bJdk2rmRDt",
        "outputId": "9d72c375-6229-4327-a545-a7a46d4da233"
      },
      "source": [
        "name = input('What is your name?')\r\n",
        "\r\n",
        "print('Hi ' + name + '!')"
      ],
      "execution_count": 1,
      "outputs": [
        {
          "output_type": "stream",
          "text": [
            "What is your name?Phyton\n",
            "Hi Phyton!\n"
          ],
          "name": "stdout"
        }
      ]
    }
  ]
}
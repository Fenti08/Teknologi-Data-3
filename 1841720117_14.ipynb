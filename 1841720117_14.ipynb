{
  "nbformat": 4,
  "nbformat_minor": 0,
  "metadata": {
    "colab": {
      "name": "1841720117_14.ipynb",
      "provenance": [],
      "authorship_tag": "ABX9TyNMORp2pHsn/dGUv6UyofUl",
      "include_colab_link": true
    },
    "kernelspec": {
      "name": "python3",
      "display_name": "Python 3"
    }
  },
  "cells": [
    {
      "cell_type": "markdown",
      "metadata": {
        "id": "view-in-github",
        "colab_type": "text"
      },
      "source": [
        "<a href=\"https://colab.research.google.com/github/Fenti08/Teknologi-Data-3/blob/main/1841720117_14.ipynb\" target=\"_parent\"><img src=\"https://colab.research.google.com/assets/colab-badge.svg\" alt=\"Open In Colab\"/></a>"
      ]
    },
    {
      "cell_type": "code",
      "metadata": {
        "colab": {
          "base_uri": "https://localhost:8080/"
        },
        "id": "yXKsYhz4nuPQ",
        "outputId": "0f5b994d-d27d-45c6-d59a-86a8d84ce8db"
      },
      "source": [
        "print(str(3.14))    #'3.14'\r\n",
        "print(int(\"2345\"))  #2345\r\n",
        "print(int(75.99999))  #75\r\n",
        "print(float(\"5.678\")) #5.678\r\n",
        "print(float(9))   #9.0"
      ],
      "execution_count": 1,
      "outputs": [
        {
          "output_type": "stream",
          "text": [
            "3.14\n",
            "2345\n",
            "75\n",
            "5.678\n",
            "9.0\n"
          ],
          "name": "stdout"
        }
      ]
    }
  ]
}
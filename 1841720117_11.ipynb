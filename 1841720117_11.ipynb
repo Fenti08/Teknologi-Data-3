{
  "nbformat": 4,
  "nbformat_minor": 0,
  "metadata": {
    "colab": {
      "name": "1841720117_11.ipynb",
      "provenance": [],
      "authorship_tag": "ABX9TyO9nW+RpNGpnpKJNvcYjb0V",
      "include_colab_link": true
    },
    "kernelspec": {
      "name": "python3",
      "display_name": "Python 3"
    }
  },
  "cells": [
    {
      "cell_type": "markdown",
      "metadata": {
        "id": "view-in-github",
        "colab_type": "text"
      },
      "source": [
        "<a href=\"https://colab.research.google.com/github/Fenti08/Teknologi-Data-3/blob/main/1841720117_11.ipynb\" target=\"_parent\"><img src=\"https://colab.research.google.com/assets/colab-badge.svg\" alt=\"Open In Colab\"/></a>"
      ]
    },
    {
      "cell_type": "code",
      "metadata": {
        "colab": {
          "base_uri": "https://localhost:8080/"
        },
        "id": "eXtEYpdLm8-T",
        "outputId": "94eec813-86b1-4fc7-cf6a-56134edab47e"
      },
      "source": [
        "myStr = 'Hello, Surabaya'\r\n",
        "print(len(myStr))\r\n",
        "\r\n",
        "pegawai = 'Sabine'\r\n",
        "print(\"Nama : \" , pegawai)\r\n",
        "print(\"pass\" + \"word\")\r\n",
        "\r\n",
        "#age = 25\r\n",
        "#myText = 'Age is'\r\n",
        "#print(myText + age)  #error\r\n",
        "\r\n",
        "age = 35\r\n",
        "myText = ' Age is '\r\n",
        "print(myText + str(age))\r\n",
        "\r\n",
        "print(\"Python \" * 3)"
      ],
      "execution_count": 1,
      "outputs": [
        {
          "output_type": "stream",
          "text": [
            "15\n",
            "Nama :  Sabine\n",
            "password\n",
            " Age is 35\n",
            "Python Python Python \n"
          ],
          "name": "stdout"
        }
      ]
    }
  ]
}